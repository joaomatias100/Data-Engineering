{
 "cells": [
  {
   "cell_type": "code",
   "execution_count": 43,
   "outputs": [],
   "source": [
    "import pandas as pd\n",
    "import glob as glob\n",
    "import datetime as datetime"
   ],
   "metadata": {
    "collapsed": false,
    "ExecuteTime": {
     "end_time": "2023-06-07T18:29:03.678579400Z",
     "start_time": "2023-06-07T18:29:03.654521400Z"
    }
   }
  },
  {
   "cell_type": "code",
   "execution_count": 44,
   "outputs": [
    {
     "name": "stderr",
     "output_type": "stream",
     "text": [
      "--2023-06-07 19:29:03--  https://cf-courses-data.s3.us.cloud-object-storage.appdomain.cloud/IBMDeveloperSkillsNetwork-PY0221EN-SkillsNetwork/labs/module%206/Lab%20-%20Extract%20Transform%20Load/data/bank_market_cap_1.json\n",
      "Resolving cf-courses-data.s3.us.cloud-object-storage.appdomain.cloud (cf-courses-data.s3.us.cloud-object-storage.appdomain.cloud)... 169.45.118.108\n",
      "Connecting to cf-courses-data.s3.us.cloud-object-storage.appdomain.cloud (cf-courses-data.s3.us.cloud-object-storage.appdomain.cloud)|169.45.118.108|:443... connected.\n",
      "HTTP request sent, awaiting response... 200 OK\n",
      "Length: 2815 (2,7K) [application/json]\n",
      "Saving to: 'bank_market_cap_1.json.9'\n",
      "\n",
      "     0K ..                                                    100% 1,25G=0s\n",
      "\n",
      "2023-06-07 19:29:05 (1,25 GB/s) - 'bank_market_cap_1.json.9' saved [2815/2815]\n",
      "\n",
      "--2023-06-07 19:29:05--  https://cf-courses-data.s3.us.cloud-object-storage.appdomain.cloud/IBMDeveloperSkillsNetwork-PY0221EN-SkillsNetwork/labs/module%206/Lab%20-%20Extract%20Transform%20Load/data/bank_market_cap_2.json\n",
      "Resolving cf-courses-data.s3.us.cloud-object-storage.appdomain.cloud (cf-courses-data.s3.us.cloud-object-storage.appdomain.cloud)... 169.45.118.108\n",
      "Connecting to cf-courses-data.s3.us.cloud-object-storage.appdomain.cloud (cf-courses-data.s3.us.cloud-object-storage.appdomain.cloud)|169.45.118.108|:443... connected.\n",
      "HTTP request sent, awaiting response... 200 OK\n",
      "Length: 1429 (1,4K) [application/json]\n",
      "Saving to: 'bank_market_cap_2.json.9'\n",
      "\n",
      "     0K .                                                     100%  545M=0s\n",
      "\n",
      "2023-06-07 19:29:06 (545 MB/s) - 'bank_market_cap_2.json.9' saved [1429/1429]\n",
      "\n",
      "--2023-06-07 19:29:06--  https://cf-courses-data.s3.us.cloud-object-storage.appdomain.cloud/IBMDeveloperSkillsNetwork-PY0221EN-SkillsNetwork/labs/module%206/Final%20Assignment/exchange_rates.csv\n",
      "Resolving cf-courses-data.s3.us.cloud-object-storage.appdomain.cloud (cf-courses-data.s3.us.cloud-object-storage.appdomain.cloud)... 169.45.118.108\n",
      "Connecting to cf-courses-data.s3.us.cloud-object-storage.appdomain.cloud (cf-courses-data.s3.us.cloud-object-storage.appdomain.cloud)|169.45.118.108|:443... connected.\n",
      "HTTP request sent, awaiting response... 200 OK\n",
      "Length: 590 [text/csv]\n",
      "Saving to: 'exchange_rates.csv.9'\n",
      "\n",
      "     0K                                                       100%  512M=0s\n",
      "\n",
      "2023-06-07 19:29:07 (512 MB/s) - 'exchange_rates.csv.9' saved [590/590]\n",
      "\n"
     ]
    }
   ],
   "source": [
    "!wget https://cf-courses-data.s3.us.cloud-object-storage.appdomain.cloud/IBMDeveloperSkillsNetwork-PY0221EN-SkillsNetwork/labs/module%206/Lab%20-%20Extract%20Transform%20Load/data/bank_market_cap_1.json\n",
    "!wget https://cf-courses-data.s3.us.cloud-object-storage.appdomain.cloud/IBMDeveloperSkillsNetwork-PY0221EN-SkillsNetwork/labs/module%206/Lab%20-%20Extract%20Transform%20Load/data/bank_market_cap_2.json\n",
    "!wget https://cf-courses-data.s3.us.cloud-object-storage.appdomain.cloud/IBMDeveloperSkillsNetwork-PY0221EN-SkillsNetwork/labs/module%206/Final%20Assignment/exchange_rates.csv"
   ],
   "metadata": {
    "collapsed": false,
    "ExecuteTime": {
     "end_time": "2023-06-07T18:29:07.978796900Z",
     "start_time": "2023-06-07T18:29:03.669521400Z"
    }
   }
  },
  {
   "cell_type": "code",
   "execution_count": 45,
   "outputs": [],
   "source": [
    "log_file = \"log_file.txt\"\n",
    "file_name = \"exchange_rates.csv.3\"\n",
    "target_file = \"bank_market_cap_gbp.csv\""
   ],
   "metadata": {
    "collapsed": false,
    "ExecuteTime": {
     "end_time": "2023-06-07T18:29:08.014683800Z",
     "start_time": "2023-06-07T18:29:07.979790600Z"
    }
   }
  },
  {
   "cell_type": "code",
   "execution_count": 46,
   "outputs": [],
   "source": [
    "def extract_json(file_name):\n",
    "    dataframe = pd.read_json(file_name)\n",
    "    return dataframe"
   ],
   "metadata": {
    "collapsed": false,
    "ExecuteTime": {
     "end_time": "2023-06-07T18:29:08.015682400Z",
     "start_time": "2023-06-07T18:29:07.994682700Z"
    }
   }
  },
  {
   "cell_type": "code",
   "execution_count": 47,
   "outputs": [],
   "source": [
    "def extract(file_name):\n",
    "\n",
    "    extracted_data = pd.DataFrame(columns=[\"Name\", \"Market cap (US$ Billion)\"])\n",
    "\n",
    "    for json_file in glob.glob(\"*.json\"):\n",
    "        extracted_data = pd.concat([extracted_data, extract_json(json_file)], ignore_index = True)\n",
    "\n",
    "    return extracted_data"
   ],
   "metadata": {
    "collapsed": false,
    "ExecuteTime": {
     "end_time": "2023-06-07T18:29:08.033797800Z",
     "start_time": "2023-06-07T18:29:08.012683100Z"
    }
   }
  },
  {
   "cell_type": "code",
   "execution_count": 48,
   "outputs": [],
   "source": [
    "def load_file(file_name):\n",
    "    dataframe = pd.read_csv(file_name, index_col = 0)\n",
    "    exchanged_rate = dataframe.loc[\"GBP\"]\n",
    "    return exchanged_rate\n",
    "\n",
    "\n"
   ],
   "metadata": {
    "collapsed": false,
    "ExecuteTime": {
     "end_time": "2023-06-07T18:29:08.064310200Z",
     "start_time": "2023-06-07T18:29:08.026685700Z"
    }
   }
  },
  {
   "cell_type": "code",
   "execution_count": 49,
   "outputs": [],
   "source": [
    "def transform(dataframe, exchanged_rate):\n",
    "    transformed_data = dataframe.copy()\n",
    "    transformed_data[\"Market Cap (US$ Billion)\"] = transformed_data[\"Market Cap (US$ Billion)\"] * exchanged_rate\n",
    "    transformed_data[\"Market Cap (US$ Billion)\"] = transformed_data[\"Market Cap (US$ Billion)\"].round(3)\n",
    "    transformed_data.rename(columns = {\"Market Cap (US$ Billion)\": \"Market Cap (GBP£ Billion)\"}, inplace= True)\n",
    "\n",
    "    return transformed_data\n"
   ],
   "metadata": {
    "collapsed": false,
    "ExecuteTime": {
     "end_time": "2023-06-07T18:29:08.065310Z",
     "start_time": "2023-06-07T18:29:08.042307600Z"
    }
   }
  },
  {
   "cell_type": "code",
   "execution_count": 50,
   "outputs": [],
   "source": [
    "def load(target_file, dataframe):\n",
    "    dataframe = dataframe.to_csv(target_file, index = False)\n"
   ],
   "metadata": {
    "collapsed": false,
    "ExecuteTime": {
     "end_time": "2023-06-07T18:29:08.080308500Z",
     "start_time": "2023-06-07T18:29:08.058307700Z"
    }
   }
  },
  {
   "cell_type": "code",
   "execution_count": 51,
   "outputs": [],
   "source": [
    "def log(message):\n",
    "    timestamp_format = '%Y-%h-%d-%H:%M:%S'\n",
    "    now = datetime.datetime.now()\n",
    "    timestamp = now.strftime(timestamp_format)\n",
    "    with open(log_file, \"w\") as logfile:\n",
    "        logfile.write(timestamp + \", \" + message + \"\\n\")\n"
   ],
   "metadata": {
    "collapsed": false,
    "ExecuteTime": {
     "end_time": "2023-06-07T18:29:08.086309300Z",
     "start_time": "2023-06-07T18:29:08.074309900Z"
    }
   }
  },
  {
   "cell_type": "code",
   "execution_count": 52,
   "outputs": [
    {
     "data": {
      "text/plain": "                                      Name Market cap (US$ Billion)   \n0                           JPMorgan Chase                      NaN  \\\n1  Industrial and Commercial Bank of China                      NaN   \n2                          Bank of America                      NaN   \n3                              Wells Fargo                      NaN   \n4                  China Construction Bank                      NaN   \n\n   Market Cap (US$ Billion)  \n0                   390.934  \n1                   345.214  \n2                   325.331  \n3                   308.013  \n4                   257.399  ",
      "text/html": "<div>\n<style scoped>\n    .dataframe tbody tr th:only-of-type {\n        vertical-align: middle;\n    }\n\n    .dataframe tbody tr th {\n        vertical-align: top;\n    }\n\n    .dataframe thead th {\n        text-align: right;\n    }\n</style>\n<table border=\"1\" class=\"dataframe\">\n  <thead>\n    <tr style=\"text-align: right;\">\n      <th></th>\n      <th>Name</th>\n      <th>Market cap (US$ Billion)</th>\n      <th>Market Cap (US$ Billion)</th>\n    </tr>\n  </thead>\n  <tbody>\n    <tr>\n      <th>0</th>\n      <td>JPMorgan Chase</td>\n      <td>NaN</td>\n      <td>390.934</td>\n    </tr>\n    <tr>\n      <th>1</th>\n      <td>Industrial and Commercial Bank of China</td>\n      <td>NaN</td>\n      <td>345.214</td>\n    </tr>\n    <tr>\n      <th>2</th>\n      <td>Bank of America</td>\n      <td>NaN</td>\n      <td>325.331</td>\n    </tr>\n    <tr>\n      <th>3</th>\n      <td>Wells Fargo</td>\n      <td>NaN</td>\n      <td>308.013</td>\n    </tr>\n    <tr>\n      <th>4</th>\n      <td>China Construction Bank</td>\n      <td>NaN</td>\n      <td>257.399</td>\n    </tr>\n  </tbody>\n</table>\n</div>"
     },
     "execution_count": 52,
     "metadata": {},
     "output_type": "execute_result"
    }
   ],
   "source": [
    "log(\"ETL started\")\n",
    "\n",
    "log(\"Extract phase started\")\n",
    "extracted_data = extract(file_name)\n",
    "log(\"Extract phase ended\")\n",
    "extracted_data.head(5)"
   ],
   "metadata": {
    "collapsed": false,
    "ExecuteTime": {
     "end_time": "2023-06-07T18:29:08.129900800Z",
     "start_time": "2023-06-07T18:29:08.088308200Z"
    }
   }
  },
  {
   "cell_type": "code",
   "execution_count": 53,
   "outputs": [
    {
     "data": {
      "text/plain": "                                      Name Market cap (US$ Billion)   \n0                           JPMorgan Chase                      NaN  \\\n1  Industrial and Commercial Bank of China                      NaN   \n2                          Bank of America                      NaN   \n3                              Wells Fargo                      NaN   \n4                  China Construction Bank                      NaN   \n\n   Market Cap (GBP£ Billion)  \n0                    273.654  \n1                    241.650  \n2                    227.732  \n3                    215.609  \n4                    180.179  ",
      "text/html": "<div>\n<style scoped>\n    .dataframe tbody tr th:only-of-type {\n        vertical-align: middle;\n    }\n\n    .dataframe tbody tr th {\n        vertical-align: top;\n    }\n\n    .dataframe thead th {\n        text-align: right;\n    }\n</style>\n<table border=\"1\" class=\"dataframe\">\n  <thead>\n    <tr style=\"text-align: right;\">\n      <th></th>\n      <th>Name</th>\n      <th>Market cap (US$ Billion)</th>\n      <th>Market Cap (GBP£ Billion)</th>\n    </tr>\n  </thead>\n  <tbody>\n    <tr>\n      <th>0</th>\n      <td>JPMorgan Chase</td>\n      <td>NaN</td>\n      <td>273.654</td>\n    </tr>\n    <tr>\n      <th>1</th>\n      <td>Industrial and Commercial Bank of China</td>\n      <td>NaN</td>\n      <td>241.650</td>\n    </tr>\n    <tr>\n      <th>2</th>\n      <td>Bank of America</td>\n      <td>NaN</td>\n      <td>227.732</td>\n    </tr>\n    <tr>\n      <th>3</th>\n      <td>Wells Fargo</td>\n      <td>NaN</td>\n      <td>215.609</td>\n    </tr>\n    <tr>\n      <th>4</th>\n      <td>China Construction Bank</td>\n      <td>NaN</td>\n      <td>180.179</td>\n    </tr>\n  </tbody>\n</table>\n</div>"
     },
     "execution_count": 53,
     "metadata": {},
     "output_type": "execute_result"
    }
   ],
   "source": [
    "log(\"Transform phase started\")\n",
    "transformed_data = transform(extracted_data, 0.7)\n",
    "log(\"Transform phase ended\")\n",
    "transformed_data.head(5)"
   ],
   "metadata": {
    "collapsed": false,
    "ExecuteTime": {
     "end_time": "2023-06-07T18:29:08.162422Z",
     "start_time": "2023-06-07T18:29:08.120900500Z"
    }
   }
  },
  {
   "cell_type": "code",
   "execution_count": 54,
   "outputs": [],
   "source": [
    "log(\"Load phase started\")\n",
    "load(target_file, transformed_data)\n",
    "log(\"Load phase ended\")"
   ],
   "metadata": {
    "collapsed": false,
    "ExecuteTime": {
     "end_time": "2023-06-07T18:29:08.208409400Z",
     "start_time": "2023-06-07T18:29:08.135407600Z"
    }
   }
  }
 ],
 "metadata": {
  "kernelspec": {
   "display_name": "Python 3",
   "language": "python",
   "name": "python3"
  },
  "language_info": {
   "codemirror_mode": {
    "name": "ipython",
    "version": 2
   },
   "file_extension": ".py",
   "mimetype": "text/x-python",
   "name": "python",
   "nbconvert_exporter": "python",
   "pygments_lexer": "ipython2",
   "version": "2.7.6"
  }
 },
 "nbformat": 4,
 "nbformat_minor": 0
}
