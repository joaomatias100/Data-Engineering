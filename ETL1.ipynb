{
 "cells": [
  {
   "cell_type": "code",
   "execution_count": 32,
   "outputs": [],
   "source": [
    "import glob                         # this module helps in selecting files\n",
    "import pandas as pd                 # this module helps in processing CSV files\n",
    "import xml.etree.ElementTree as ET  # this module helps in processing XML files.\n",
    "from datetime import datetime"
   ],
   "metadata": {
    "collapsed": false,
    "ExecuteTime": {
     "end_time": "2023-06-03T17:17:28.911802500Z",
     "start_time": "2023-06-03T17:17:28.899426100Z"
    }
   }
  },
  {
   "cell_type": "code",
   "execution_count": 33,
   "outputs": [
    {
     "name": "stderr",
     "output_type": "stream",
     "text": [
      "--2023-06-03 18:17:28--  https://cf-courses-data.s3.us.cloud-object-storage.appdomain.cloud/IBMDeveloperSkillsNetwork-PY0221EN-SkillsNetwork/labs/module%206/Lab%20-%20Extract%20Transform%20Load/data/datasource.zip\n",
      "Resolving cf-courses-data.s3.us.cloud-object-storage.appdomain.cloud (cf-courses-data.s3.us.cloud-object-storage.appdomain.cloud)... 169.63.118.104\n",
      "Connecting to cf-courses-data.s3.us.cloud-object-storage.appdomain.cloud (cf-courses-data.s3.us.cloud-object-storage.appdomain.cloud)|169.63.118.104|:443... connected.\n",
      "HTTP request sent, awaiting response... 200 OK\n",
      "Length: 4249 (4,1K) [application/zip]\n",
      "Saving to: 'datasource.zip.1'\n",
      "\n",
      "     0K ....                                                  100% 1,58G=0s\n",
      "\n",
      "2023-06-03 18:17:29 (1,58 GB/s) - 'datasource.zip.1' saved [4249/4249]\n",
      "\n"
     ]
    }
   ],
   "source": [
    "import pandas as pd\n",
    "!wget https://cf-courses-data.s3.us.cloud-object-storage.appdomain.cloud/IBMDeveloperSkillsNetwork-PY0221EN-SkillsNetwork/labs/module%206/Lab%20-%20Extract%20Transform%20Load/data/datasource.zip"
   ],
   "metadata": {
    "collapsed": false,
    "ExecuteTime": {
     "end_time": "2023-06-03T17:17:29.806668500Z",
     "start_time": "2023-06-03T17:17:28.915787600Z"
    }
   }
  },
  {
   "cell_type": "code",
   "execution_count": 34,
   "outputs": [],
   "source": [
    "import zipfile\n",
    "\n",
    "with zipfile.ZipFile(\"datasource.zip\", \"r\") as extracted_file:\n",
    "    extracted_file.extractall(\"dealership_data\")"
   ],
   "metadata": {
    "collapsed": false,
    "ExecuteTime": {
     "end_time": "2023-06-03T17:17:29.850602300Z",
     "start_time": "2023-06-03T17:17:29.807665400Z"
    }
   }
  },
  {
   "cell_type": "code",
   "execution_count": 35,
   "outputs": [],
   "source": [
    "temp_file = \"dealership_temp.tmp\"\n",
    "log_file = \"dealership_log_file.txt\"\n",
    "target_file = \"dealership_transofrmed_data_file\""
   ],
   "metadata": {
    "collapsed": false,
    "ExecuteTime": {
     "end_time": "2023-06-03T17:17:29.855573700Z",
     "start_time": "2023-06-03T17:17:29.821686800Z"
    }
   }
  },
  {
   "cell_type": "code",
   "execution_count": 36,
   "outputs": [],
   "source": [
    "def extract_csv(file_name):\n",
    "    dataframe = pd.read_csv(file_name)\n",
    "    return dataframe\n",
    "\n",
    "def extract_json(file_name):\n",
    "    dataframe = pd.read_json(file_name, lines=True)\n",
    "    return dataframe\n",
    "\n",
    "def extract_xml(file_name):\n",
    "\n",
    "    dataframe = pd.DataFrame(columns=[\"car_model\", \"year_of_manufacture\", \"price\", \"fuel\"])\n",
    "    tree = ET.parse(file_name)\n",
    "    root = tree.getroot()\n",
    "\n",
    "    for car in root:\n",
    "        car_model = car.find(\"car_model\").text\n",
    "        year_of_manufacture = int(car.find(\"year_of_manufacture\").text)\n",
    "        price = float(car.find(\"price\").text)\n",
    "        fuel = car.find(\"fuel\").text\n",
    "        dataframe = pd.concat([dataframe, pd.DataFrame({\"car_model\": [car_model], \"year_of_manufacture\": [year_of_manufacture], \"price\": [price], \"fuel\": [fuel]})])\n",
    "\n",
    "    return dataframe"
   ],
   "metadata": {
    "collapsed": false,
    "ExecuteTime": {
     "end_time": "2023-06-03T17:17:29.855573700Z",
     "start_time": "2023-06-03T17:17:29.850602300Z"
    }
   }
  },
  {
   "cell_type": "code",
   "execution_count": 37,
   "outputs": [],
   "source": [
    "def extract():\n",
    "    extracted_data = pd.DataFrame(columns=[\"car_model\",\"year_of_manufacture\",\"price\",\"fuel\"])\n",
    "\n",
    "    for csv_file in glob.glob(\"dealership_data/*.csv\"):\n",
    "        extracted_data = pd.concat([extracted_data, extract_csv(csv_file)], ignore_index= True)\n",
    "\n",
    "    for json_file in glob.glob(\"dealership_data/*.json\"):\n",
    "        extracted_data = pd.concat([extracted_data, extract_json(json_file)], ignore_index= True)\n",
    "\n",
    "    for xml_file in glob.glob(\"dealership_data/*.xml\"):\n",
    "        extracted_data = pd.concat([extracted_data, extract_xml(xml_file)], ignore_index= True)\n",
    "\n",
    "    return extracted_data"
   ],
   "metadata": {
    "collapsed": false,
    "ExecuteTime": {
     "end_time": "2023-06-03T17:17:29.883458100Z",
     "start_time": "2023-06-03T17:17:29.855573700Z"
    }
   }
  },
  {
   "cell_type": "code",
   "execution_count": 38,
   "outputs": [],
   "source": [
    "def transform(data):\n",
    "    data[\"price\"] = round(data.price, 2)\n",
    "    return data"
   ],
   "metadata": {
    "collapsed": false,
    "ExecuteTime": {
     "end_time": "2023-06-03T17:17:29.894025200Z",
     "start_time": "2023-06-03T17:17:29.879469600Z"
    }
   }
  },
  {
   "cell_type": "code",
   "execution_count": 39,
   "outputs": [],
   "source": [
    "def load(target_file, data_load):\n",
    "    data_load.to_csv(target_file)"
   ],
   "metadata": {
    "collapsed": false,
    "ExecuteTime": {
     "end_time": "2023-06-03T17:17:29.916082800Z",
     "start_time": "2023-06-03T17:17:29.892985700Z"
    }
   }
  },
  {
   "cell_type": "code",
   "execution_count": 40,
   "outputs": [],
   "source": [
    "def log(message):\n",
    "    timestamp_format = '%H:%M:%S-%h-%d-%Y'\n",
    "    now = datetime.now()\n",
    "    time_stamp = now.strftime(timestamp_format)\n",
    "    with open(log_file, \"w\") as logfile:\n",
    "        logfile.write(time_stamp + ',' + message + '\\n')\n"
   ],
   "metadata": {
    "collapsed": false,
    "ExecuteTime": {
     "end_time": "2023-06-03T17:17:29.926382900Z",
     "start_time": "2023-06-03T17:17:29.910700Z"
    }
   }
  },
  {
   "cell_type": "code",
   "execution_count": 41,
   "outputs": [],
   "source": [
    "log(\"Extract phase started\")\n",
    "extracted_data = extract()\n",
    "log(\"Extract phase ended\")\n",
    "extracted_data\n",
    "\n",
    "log(\"Transoform phase started\")\n",
    "transformed_data = transform(extracted_data)\n",
    "log(\"Transoform phase ended\")\n",
    "\n",
    "log(\"Load phase started\")\n",
    "load(target_file, transformed_data)\n",
    "log(\"Load phase ended\")\n"
   ],
   "metadata": {
    "collapsed": false,
    "ExecuteTime": {
     "end_time": "2023-06-03T17:17:30.033814800Z",
     "start_time": "2023-06-03T17:17:29.927380600Z"
    }
   }
  },
  {
   "cell_type": "code",
   "execution_count": 41,
   "outputs": [],
   "source": [],
   "metadata": {
    "collapsed": false,
    "ExecuteTime": {
     "end_time": "2023-06-03T17:17:30.048659300Z",
     "start_time": "2023-06-03T17:17:30.033814800Z"
    }
   }
  },
  {
   "cell_type": "code",
   "execution_count": 41,
   "outputs": [],
   "source": [],
   "metadata": {
    "collapsed": false,
    "ExecuteTime": {
     "end_time": "2023-06-03T17:17:30.068439600Z",
     "start_time": "2023-06-03T17:17:30.049711300Z"
    }
   }
  }
 ],
 "metadata": {
  "kernelspec": {
   "display_name": "Python 3",
   "language": "python",
   "name": "python3"
  },
  "language_info": {
   "codemirror_mode": {
    "name": "ipython",
    "version": 2
   },
   "file_extension": ".py",
   "mimetype": "text/x-python",
   "name": "python",
   "nbconvert_exporter": "python",
   "pygments_lexer": "ipython2",
   "version": "2.7.6"
  }
 },
 "nbformat": 4,
 "nbformat_minor": 0
}
